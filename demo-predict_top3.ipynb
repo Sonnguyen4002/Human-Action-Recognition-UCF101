{
 "cells": [
  {
   "cell_type": "code",
   "execution_count": 1,
   "metadata": {},
   "outputs": [],
   "source": [
    "from enhanced_r3d import *\n",
    "from preprocess import *\n",
    "\n",
    "# List of video paths for testing\n",
    "test_video_paths = [\n",
    "    'dataset/UCF101/UCF-101/Typing/v_Typing_g01_c01.avi',\n",
    "    'dataset/UCF101/UCF-101/BenchPress/v_BenchPress_g01_c04.avi',\n",
    "    'dataset/UCF101/UCF-101/Basketball/v_Basketball_g01_c02.avi',\n",
    "    'dataset/UCF101/UCF-101/BrushingTeeth/v_BrushingTeeth_g01_c02.avi',\n",
    "    'dataset/UCF101/UCF-101/TennisSwing/v_TennisSwing_g02_c02.avi',\n",
    "    'dataset/UCF101/UCF-101/TennisSwing/v_TennisSwing_g03_c04.avi',\n",
    "]"
   ]
  },
  {
   "cell_type": "code",
   "execution_count": 2,
   "metadata": {},
   "outputs": [
    {
     "name": "stderr",
     "output_type": "stream",
     "text": [
      "/opt/anaconda3/envs/data_science/lib/python3.12/site-packages/torch/amp/grad_scaler.py:132: UserWarning: torch.cuda.amp.GradScaler is enabled, but CUDA is not available.  Disabling.\n",
      "  warnings.warn(\n",
      "2024-12-15 23:56:46,446 - INFO - Loading checkpoint from 'results/update_r3d.pth'\n",
      "/Volumes/XUANTHANH/project_deep_learning/enhanced_r3d.py:414: FutureWarning: You are using `torch.load` with `weights_only=False` (the current default value), which uses the default pickle module implicitly. It is possible to construct malicious pickle data which will execute arbitrary code during unpickling (See https://github.com/pytorch/pytorch/blob/main/SECURITY.md#untrusted-models for more details). In a future release, the default value for `weights_only` will be flipped to `True`. This limits the functions that could be executed during unpickling. Arbitrary objects will no longer be allowed to be loaded via this mode unless they are explicitly allowlisted by the user via `torch.serialization.add_safe_globals`. We recommend you start setting `weights_only=True` for any use case where you don't have full control of the loaded file. Please open an issue on GitHub for any issues related to this experimental feature.\n",
      "  checkpoint = torch.load(config.checkpoint_path, map_location=config.device)\n",
      "2024-12-15 23:56:48,092 - INFO - Loaded checkpoint 'results/update_r3d.pth' (Epoch 34)\n"
     ]
    },
    {
     "name": "stdout",
     "output_type": "stream",
     "text": [
      "\n",
      "Processing video: dataset/UCF101/UCF-101/Typing/v_Typing_g01_c01.avi\n",
      "Predicted Class: Typing\n",
      "Confidence: 99.98%\n",
      "\n",
      "Top 3 Predictions:\n",
      "1. Typing: 99.98%\n",
      "2. HandstandWalking: 0.00%\n",
      "3. Bowling: 0.00%\n",
      "\n",
      "Processing video: dataset/UCF101/UCF-101/BenchPress/v_BenchPress_g01_c04.avi\n",
      "Predicted Class: BenchPress\n",
      "Confidence: 46.85%\n",
      "\n",
      "Top 3 Predictions:\n",
      "1. BenchPress: 46.85%\n",
      "2. PommelHorse: 24.83%\n",
      "3. Drumming: 13.90%\n",
      "\n",
      "Processing video: dataset/UCF101/UCF-101/Basketball/v_Basketball_g01_c02.avi\n",
      "Predicted Class: Basketball\n",
      "Confidence: 91.29%\n",
      "\n",
      "Top 3 Predictions:\n",
      "1. Basketball: 91.29%\n",
      "2. TennisSwing: 1.96%\n",
      "3. JumpRope: 1.82%\n",
      "\n",
      "Processing video: dataset/UCF101/UCF-101/BrushingTeeth/v_BrushingTeeth_g01_c02.avi\n",
      "Predicted Class: PlayingFlute\n",
      "Confidence: 9.84%\n",
      "\n",
      "Top 3 Predictions:\n",
      "1. PlayingFlute: 9.84%\n",
      "2. JugglingBalls: 7.56%\n",
      "3. HammerThrow: 4.32%\n",
      "\n",
      "Processing video: dataset/UCF101/UCF-101/TennisSwing/v_TennisSwing_g02_c02.avi\n",
      "Predicted Class: TennisSwing\n",
      "Confidence: 75.41%\n",
      "\n",
      "Top 3 Predictions:\n",
      "1. TennisSwing: 75.41%\n",
      "2. GolfSwing: 6.36%\n",
      "3. SoccerJuggling: 2.63%\n",
      "\n",
      "Processing video: dataset/UCF101/UCF-101/TennisSwing/v_TennisSwing_g03_c04.avi\n",
      "Predicted Class: TennisSwing\n",
      "Confidence: 96.49%\n",
      "\n",
      "Top 3 Predictions:\n",
      "1. TennisSwing: 96.49%\n",
      "2. HammerThrow: 1.86%\n",
      "3. FieldHockeyPenalty: 0.63%\n"
     ]
    }
   ],
   "source": [
    "best_model_path = 'results/update_r3d.pth'\n",
    "\n",
    "config = VideoClassificationConfig(\n",
    "    model_type='update_r3d',\n",
    "    pretrained=False,\n",
    "    checkpoint_path=best_model_path\n",
    ")\n",
    "\n",
    "model = create_model(config)\n",
    "\n",
    "# Loss and optimizer\n",
    "criterion = nn.CrossEntropyLoss()\n",
    "optimizer = optim.Adam(model.parameters(), lr=config.learning_rate)\n",
    "scheduler = optim.lr_scheduler.ReduceLROnPlateau(\n",
    "    optimizer,\n",
    "    mode='max',\n",
    "    factor=config.scheduler_factor,\n",
    "    patience=config.scheduler_patience,\n",
    "    min_lr=1e-6\n",
    ")\n",
    "scaler = torch.amp.GradScaler('cuda',enabled=config.use_amp)\n",
    "\n",
    "start_epoch = 0\n",
    "best_val_acc = 0\n",
    "start_epoch, best_val_acc = load_checkpoint(config, model, optimizer, scheduler, scaler)\n",
    "\n",
    "# Training loop\n",
    "history = {'train_loss': [], 'train_acc': [], 'val_loss': [], 'val_acc': []}\n",
    "epochs_no_improve = 0\n",
    "early_stop = False\n",
    "\n",
    "inference_test(model, test_video_paths, config)"
   ]
  }
 ],
 "metadata": {
  "kernelspec": {
   "display_name": "data_science",
   "language": "python",
   "name": "python3"
  },
  "language_info": {
   "codemirror_mode": {
    "name": "ipython",
    "version": 3
   },
   "file_extension": ".py",
   "mimetype": "text/x-python",
   "name": "python",
   "nbconvert_exporter": "python",
   "pygments_lexer": "ipython3",
   "version": "3.12.7"
  }
 },
 "nbformat": 4,
 "nbformat_minor": 2
}
