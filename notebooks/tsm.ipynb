{
 "cells": [
  {
   "cell_type": "markdown",
   "id": "771e3020",
   "metadata": {
    "papermill": {
     "duration": 0.005472,
     "end_time": "2024-12-09T15:30:45.328262",
     "exception": false,
     "start_time": "2024-12-09T15:30:45.322790",
     "status": "completed"
    },
    "tags": []
   },
   "source": [
    "# Install, import libraries and Set parameters"
   ]
  },
  {
   "cell_type": "code",
   "execution_count": 1,
   "id": "fbfa46b6",
   "metadata": {
    "execution": {
     "iopub.execute_input": "2024-12-09T15:30:45.339602Z",
     "iopub.status.busy": "2024-12-09T15:30:45.339294Z",
     "iopub.status.idle": "2024-12-09T15:30:54.888969Z",
     "shell.execute_reply": "2024-12-09T15:30:54.888117Z"
    },
    "papermill": {
     "duration": 9.558256,
     "end_time": "2024-12-09T15:30:54.891051",
     "exception": false,
     "start_time": "2024-12-09T15:30:45.332795",
     "status": "completed"
    },
    "tags": []
   },
   "outputs": [
    {
     "name": "stdout",
     "output_type": "stream",
     "text": [
      "Collecting torchsummary\r\n",
      "  Downloading torchsummary-1.5.1-py3-none-any.whl.metadata (296 bytes)\r\n",
      "Downloading torchsummary-1.5.1-py3-none-any.whl (2.8 kB)\r\n",
      "Installing collected packages: torchsummary\r\n",
      "Successfully installed torchsummary-1.5.1\r\n"
     ]
    }
   ],
   "source": [
    "# !pip install decord\n",
    "# !pip install av\n",
    "!pip install torchsummary"
   ]
  },
  {
   "cell_type": "code",
   "execution_count": 2,
   "id": "cc0df706",
   "metadata": {
    "execution": {
     "iopub.execute_input": "2024-12-09T15:30:54.902511Z",
     "iopub.status.busy": "2024-12-09T15:30:54.902238Z",
     "iopub.status.idle": "2024-12-09T15:30:59.047706Z",
     "shell.execute_reply": "2024-12-09T15:30:59.046632Z"
    },
    "papermill": {
     "duration": 4.153612,
     "end_time": "2024-12-09T15:30:59.049741",
     "exception": false,
     "start_time": "2024-12-09T15:30:54.896129",
     "status": "completed"
    },
    "tags": []
   },
   "outputs": [],
   "source": [
    "import sys\n",
    "sys.path.insert(1, '/kaggle/input/tsn-tsm-modules')\n",
    "from ops import models\n",
    "from ops.transforms import *"
   ]
  },
  {
   "cell_type": "code",
   "execution_count": null,
   "id": "77eec2c7",
   "metadata": {
    "execution": {
     "iopub.execute_input": "2024-12-09T15:30:59.060980Z",
     "iopub.status.busy": "2024-12-09T15:30:59.060558Z",
     "iopub.status.idle": "2024-12-09T15:31:00.364971Z",
     "shell.execute_reply": "2024-12-09T15:31:00.364251Z"
    },
    "papermill": {
     "duration": 1.312331,
     "end_time": "2024-12-09T15:31:00.367035",
     "exception": false,
     "start_time": "2024-12-09T15:30:59.054704",
     "status": "completed"
    },
    "tags": []
   },
   "outputs": [],
   "source": [
    "import cv2\n",
    "import matplotlib.pyplot as plt\n",
    "from skimage.transform import resize\n",
    "from sklearn.model_selection import train_test_split\n",
    "\n",
    "from torchvision.transforms import ToTensor\n",
    "from sklearn.metrics import confusion_matrix, ConfusionMatrixDisplay, accuracy_score, precision_score, recall_score, f1_score"
   ]
  },
  {
   "cell_type": "code",
   "execution_count": null,
   "id": "5594c32d",
   "metadata": {
    "execution": {
     "iopub.execute_input": "2024-12-09T15:31:00.379065Z",
     "iopub.status.busy": "2024-12-09T15:31:00.378269Z",
     "iopub.status.idle": "2024-12-09T15:31:01.997968Z",
     "shell.execute_reply": "2024-12-09T15:31:01.997240Z"
    },
    "papermill": {
     "duration": 1.62787,
     "end_time": "2024-12-09T15:31:01.999976",
     "exception": false,
     "start_time": "2024-12-09T15:31:00.372106",
     "status": "completed"
    },
    "tags": []
   },
   "outputs": [],
   "source": [
    "import torch\n",
    "import torch.nn as nn\n",
    "import torch.optim as optim\n",
    "import torch.nn.functional as F\n",
    "from torch.nn import DataParallel\n",
    "from torch.utils.data import Dataset, DataLoader, ConcatDataset\n",
    "from torchvision import transforms\n",
    "from torchsummary import summary\n",
    "\n",
    "from PIL import Image\n",
    "import numpy as np\n",
    "import pandas as pd\n",
    "import os\n",
    "import wandb\n",
    "import random"
   ]
  },
  {
   "cell_type": "code",
   "execution_count": 5,
   "id": "fed7797e",
   "metadata": {
    "execution": {
     "iopub.execute_input": "2024-12-09T15:31:02.010820Z",
     "iopub.status.busy": "2024-12-09T15:31:02.010528Z",
     "iopub.status.idle": "2024-12-09T15:31:02.096194Z",
     "shell.execute_reply": "2024-12-09T15:31:02.095461Z"
    },
    "papermill": {
     "duration": 0.09299,
     "end_time": "2024-12-09T15:31:02.097961",
     "exception": false,
     "start_time": "2024-12-09T15:31:02.004971",
     "status": "completed"
    },
    "tags": []
   },
   "outputs": [],
   "source": [
    "# parameters\n",
    "BATCH_SIZE = 12 ## can double batch size with 2 GPUs\n",
    "NUM_EPOCHS = 100\n",
    "NUM_CLASSES = 11\n",
    "CLIP_DURATION = 16\n",
    "LEARNING_RATE = 0.005\n",
    "INPUT_SIZE = (3,224,224)\n",
    "DATA_SAMPLE = 'uniform'\n",
    "\n",
    "CHECKPOINT_PATH = \"/kaggle/working/TSM_ResNet50.pth\"\n",
    "# DATA_DIR = \"/kaggle/input/ucf101/UCF101/UCF-101\"\n",
    "# SPLITS_DIR = \"/kaggle/input/ucf101/UCF101TrainTestSplits-RecognitionTask/ucfTrainTestlist\"\n",
    "# CLASS_IND = os.path.join(SPLITS_DIR, \"classInd.txt\")\n",
    "DEVICE = torch.device('cuda' if torch.cuda.is_available() else 'cpu')"
   ]
  },
  {
   "cell_type": "markdown",
   "id": "3673a2e4",
   "metadata": {
    "papermill": {
     "duration": 0.004535,
     "end_time": "2024-12-09T15:31:02.107530",
     "exception": false,
     "start_time": "2024-12-09T15:31:02.102995",
     "status": "completed"
    },
    "tags": []
   },
   "source": [
    "# Dataset"
   ]
  },
  {
   "cell_type": "code",
   "execution_count": null,
   "id": "c29d031f",
   "metadata": {
    "execution": {
     "iopub.execute_input": "2024-12-09T15:31:02.117724Z",
     "iopub.status.busy": "2024-12-09T15:31:02.117421Z",
     "iopub.status.idle": "2024-12-09T15:31:04.078459Z",
     "shell.execute_reply": "2024-12-09T15:31:04.077573Z"
    },
    "papermill": {
     "duration": 1.968221,
     "end_time": "2024-12-09T15:31:04.080218",
     "exception": false,
     "start_time": "2024-12-09T15:31:02.111997",
     "status": "completed"
    },
    "tags": []
   },
   "outputs": [
    {
     "name": "stdout",
     "output_type": "stream",
     "text": [
      "/kaggle/input/realistic-action-recognition-ucf50-dataset/UCF11_updated_mpg/biking\n",
      "/kaggle/input/realistic-action-recognition-ucf50-dataset/UCF11_updated_mpg/trampoline_jumping\n",
      "/kaggle/input/realistic-action-recognition-ucf50-dataset/UCF11_updated_mpg/swing\n",
      "/kaggle/input/realistic-action-recognition-ucf50-dataset/UCF11_updated_mpg/walking\n",
      "/kaggle/input/realistic-action-recognition-ucf50-dataset/UCF11_updated_mpg/golf_swing\n",
      "/kaggle/input/realistic-action-recognition-ucf50-dataset/UCF11_updated_mpg/soccer_juggling\n",
      "/kaggle/input/realistic-action-recognition-ucf50-dataset/UCF11_updated_mpg/tennis_swing\n",
      "/kaggle/input/realistic-action-recognition-ucf50-dataset/UCF11_updated_mpg/volleyball_spiking\n",
      "/kaggle/input/realistic-action-recognition-ucf50-dataset/UCF11_updated_mpg/basketball\n",
      "/kaggle/input/realistic-action-recognition-ucf50-dataset/UCF11_updated_mpg/horse_riding\n",
      "/kaggle/input/realistic-action-recognition-ucf50-dataset/UCF11_updated_mpg/diving\n",
      "['biking', 'trampoline_jumping', 'swing', 'walking', 'golf_swing', 'soccer_juggling', 'tennis_swing', 'volleyball_spiking', 'basketball', 'horse_riding', 'diving']\n"
     ]
    }
   ],
   "source": [
    "output_file = \"/kaggle/working/train.txt\"\n",
    "ucf11 = \"/kaggle/input/realistic-action-recognition-ucf50-dataset/UCF11_updated_mpg\"\n",
    "labels = [] # labels[i] = name of class with index i\n",
    "\n",
    "with open(output_file, \"w\") as f:\n",
    "    x = -1\n",
    "    for action_folder in os.listdir(ucf11):\n",
    "        action_folder_path = os.path.join(ucf11, action_folder)\n",
    "        x +=1\n",
    "        if os.path.isdir(action_folder_path):\n",
    "            labels.append(action_folder)\n",
    "            print(action_folder_path)\n",
    "            for group_folder in os.listdir(action_folder_path):\n",
    "                group_folder_path = os.path.join(action_folder_path, group_folder)\n",
    "                if os.path.isdir(group_folder_path):\n",
    "                    for video_file in os.listdir(group_folder_path):\n",
    "                        video_file_path = os.path.join(group_folder_path, video_file)\n",
    "                        if video_file.endswith(\".mpg\") or video_file.endswith(\".avi\"):\n",
    "                            f.write(f\"{video_file_path} {x}\\n\")\n",
    "\n",
    "print(labels)"
   ]
  },
  {
   "cell_type": "code",
   "execution_count": 7,
   "id": "eabf8719",
   "metadata": {
    "execution": {
     "iopub.execute_input": "2024-12-09T15:31:04.092254Z",
     "iopub.status.busy": "2024-12-09T15:31:04.091736Z",
     "iopub.status.idle": "2024-12-09T15:31:04.121005Z",
     "shell.execute_reply": "2024-12-09T15:31:04.120128Z"
    },
    "papermill": {
     "duration": 0.036919,
     "end_time": "2024-12-09T15:31:04.122589",
     "exception": false,
     "start_time": "2024-12-09T15:31:04.085670",
     "status": "completed"
    },
    "tags": []
   },
   "outputs": [
    {
     "data": {
      "text/html": [
       "<div>\n",
       "<style scoped>\n",
       "    .dataframe tbody tr th:only-of-type {\n",
       "        vertical-align: middle;\n",
       "    }\n",
       "\n",
       "    .dataframe tbody tr th {\n",
       "        vertical-align: top;\n",
       "    }\n",
       "\n",
       "    .dataframe thead th {\n",
       "        text-align: right;\n",
       "    }\n",
       "</style>\n",
       "<table border=\"1\" class=\"dataframe\">\n",
       "  <thead>\n",
       "    <tr style=\"text-align: right;\">\n",
       "      <th></th>\n",
       "      <th>path</th>\n",
       "      <th>class</th>\n",
       "    </tr>\n",
       "  </thead>\n",
       "  <tbody>\n",
       "    <tr>\n",
       "      <th>0</th>\n",
       "      <td>/biking/v_biking_05/v_biking_05_05.mpg</td>\n",
       "      <td>0</td>\n",
       "    </tr>\n",
       "    <tr>\n",
       "      <th>1</th>\n",
       "      <td>/biking/v_biking_05/v_biking_05_04.mpg</td>\n",
       "      <td>0</td>\n",
       "    </tr>\n",
       "    <tr>\n",
       "      <th>2</th>\n",
       "      <td>/biking/v_biking_05/v_biking_05_08.mpg</td>\n",
       "      <td>0</td>\n",
       "    </tr>\n",
       "    <tr>\n",
       "      <th>3</th>\n",
       "      <td>/biking/v_biking_05/v_biking_05_01.mpg</td>\n",
       "      <td>0</td>\n",
       "    </tr>\n",
       "    <tr>\n",
       "      <th>4</th>\n",
       "      <td>/biking/v_biking_05/v_biking_05_02.mpg</td>\n",
       "      <td>0</td>\n",
       "    </tr>\n",
       "    <tr>\n",
       "      <th>...</th>\n",
       "      <td>...</td>\n",
       "      <td>...</td>\n",
       "    </tr>\n",
       "    <tr>\n",
       "      <th>1595</th>\n",
       "      <td>/diving/v_diving_21/v_diving_21_02.mpg</td>\n",
       "      <td>10</td>\n",
       "    </tr>\n",
       "    <tr>\n",
       "      <th>1596</th>\n",
       "      <td>/diving/v_diving_18/v_diving_18_04.mpg</td>\n",
       "      <td>10</td>\n",
       "    </tr>\n",
       "    <tr>\n",
       "      <th>1597</th>\n",
       "      <td>/diving/v_diving_18/v_diving_18_01.mpg</td>\n",
       "      <td>10</td>\n",
       "    </tr>\n",
       "    <tr>\n",
       "      <th>1598</th>\n",
       "      <td>/diving/v_diving_18/v_diving_18_03.mpg</td>\n",
       "      <td>10</td>\n",
       "    </tr>\n",
       "    <tr>\n",
       "      <th>1599</th>\n",
       "      <td>/diving/v_diving_18/v_diving_18_02.mpg</td>\n",
       "      <td>10</td>\n",
       "    </tr>\n",
       "  </tbody>\n",
       "</table>\n",
       "<p>1600 rows × 2 columns</p>\n",
       "</div>"
      ],
      "text/plain": [
       "                                        path  class\n",
       "0     /biking/v_biking_05/v_biking_05_05.mpg      0\n",
       "1     /biking/v_biking_05/v_biking_05_04.mpg      0\n",
       "2     /biking/v_biking_05/v_biking_05_08.mpg      0\n",
       "3     /biking/v_biking_05/v_biking_05_01.mpg      0\n",
       "4     /biking/v_biking_05/v_biking_05_02.mpg      0\n",
       "...                                      ...    ...\n",
       "1595  /diving/v_diving_21/v_diving_21_02.mpg     10\n",
       "1596  /diving/v_diving_18/v_diving_18_04.mpg     10\n",
       "1597  /diving/v_diving_18/v_diving_18_01.mpg     10\n",
       "1598  /diving/v_diving_18/v_diving_18_03.mpg     10\n",
       "1599  /diving/v_diving_18/v_diving_18_02.mpg     10\n",
       "\n",
       "[1600 rows x 2 columns]"
      ]
     },
     "execution_count": 7,
     "metadata": {},
     "output_type": "execute_result"
    }
   ],
   "source": [
    "train_df = pd.read_csv(\"train.txt\",sep = \" \",header = None,names = ['path','class'])\n",
    "train_df['path'] = train_df['path'].str.replace(ucf11, '', regex=False).str.lstrip(\"\\\\\")\n",
    "train_df"
   ]
  },
  {
   "cell_type": "code",
   "execution_count": 8,
   "id": "f862d003",
   "metadata": {
    "execution": {
     "iopub.execute_input": "2024-12-09T15:31:04.134514Z",
     "iopub.status.busy": "2024-12-09T15:31:04.134279Z",
     "iopub.status.idle": "2024-12-09T15:31:04.145524Z",
     "shell.execute_reply": "2024-12-09T15:31:04.144686Z"
    },
    "papermill": {
     "duration": 0.019081,
     "end_time": "2024-12-09T15:31:04.147187",
     "exception": false,
     "start_time": "2024-12-09T15:31:04.128106",
     "status": "completed"
    },
    "tags": []
   },
   "outputs": [
    {
     "name": "stdout",
     "output_type": "stream",
     "text": [
      "class\n",
      "9     198\n",
      "6     167\n",
      "10    156\n",
      "5     156\n",
      "0     145\n",
      "4     142\n",
      "8     141\n",
      "2     137\n",
      "3     123\n",
      "1     119\n",
      "7     116\n",
      "Name: count, dtype: int64\n"
     ]
    }
   ],
   "source": [
    "class_counts = train_df['class'].value_counts()\n",
    "print(class_counts)"
   ]
  },
  {
   "cell_type": "code",
   "execution_count": null,
   "id": "92397fee",
   "metadata": {
    "execution": {
     "iopub.execute_input": "2024-12-09T15:31:04.159627Z",
     "iopub.status.busy": "2024-12-09T15:31:04.159331Z",
     "iopub.status.idle": "2024-12-09T15:31:04.169364Z",
     "shell.execute_reply": "2024-12-09T15:31:04.168659Z"
    },
    "papermill": {
     "duration": 0.018253,
     "end_time": "2024-12-09T15:31:04.170953",
     "exception": false,
     "start_time": "2024-12-09T15:31:04.152700",
     "status": "completed"
    },
    "tags": []
   },
   "outputs": [],
   "source": [
    "def prepare_data(video_path, _resize, num_classes, num_frames):\n",
    "    content = []\n",
    "    labels = []\n",
    "    # crop = transforms.CenterCrop(_resize)\n",
    "    \n",
    "    for i in range(num_classes):\n",
    "        df_temp = train_df[train_df['class'] == i]\n",
    "        if not df_temp.empty:\n",
    "            path = df_temp['path'].tolist()\n",
    "            content.extend(path)\n",
    "            labels.extend([i] * len(path))\n",
    "        else:\n",
    "            print(f\"Class {i} không có video nào!\")\n",
    "\n",
    "    if len(content) == 0:\n",
    "        raise ValueError(\"Không có video nào trong khoảng class được chọn!\")\n",
    "\n",
    "    content = np.array(content)\n",
    "    videos = []\n",
    "    y = []\n",
    "\n",
    "    for j in range(len(content)):\n",
    "        # print(f\"Processing {np.round(100 * j / len(content), 3)}%: {content[j]}\")\n",
    "        x = video_path + '/' + content[j]\n",
    "        vcap = cv2.VideoCapture(x)\n",
    "        total_frames = int(vcap.get(cv2.CAP_PROP_FRAME_COUNT))\n",
    "\n",
    "        if total_frames < num_frames:\n",
    "            print(f\"Video {content[j]} có ít hơn {num_frames} frames. Sẽ lấy tất cả {total_frames} frames.\")\n",
    "            selected_indices = range(total_frames)\n",
    "        else:\n",
    "            selected_indices = np.linspace(0, total_frames - 1, num_frames, dtype=int)\n",
    "\n",
    "        frames = []\n",
    "        count = 0\n",
    "        success = True\n",
    "        while success:\n",
    "            success, image = vcap.read()\n",
    "            if not success:\n",
    "                break\n",
    "            if count in selected_indices:\n",
    "                try:\n",
    "                    image = resize(image, (240,320))\n",
    "                    frames.append(image.astype(np.uint8))\n",
    "                except Exception as e:\n",
    "                    print(f\"Lỗi xử lý frame {count} trong video {content[j]}: {e}\")\n",
    "            count += 1\n",
    "\n",
    "        if len(frames) == num_frames:\n",
    "            videos.append(np.array(frames, dtype=np.uint8))\n",
    "            y.append(labels[j])\n",
    "        else:\n",
    "            print(f\"Video {content[j]} không đủ số frame sau khi xử lý, sẽ bỏ qua.\")\n",
    "\n",
    "        vcap.release()\n",
    "\n",
    "    videos = np.array(videos, dtype=np.uint8)\n",
    "    print(f\"Shape của videos: {videos.shape}\")\n",
    "\n",
    "    y = np.array(y)\n",
    "    print(f\"Shape của labels: {y.shape}\")\n",
    "\n",
    "    return videos, y"
   ]
  },
  {
   "cell_type": "code",
   "execution_count": null,
   "id": "2cb23430",
   "metadata": {
    "execution": {
     "iopub.execute_input": "2024-12-09T15:31:04.182355Z",
     "iopub.status.busy": "2024-12-09T15:31:04.182125Z",
     "iopub.status.idle": "2024-12-09T15:31:04.187570Z",
     "shell.execute_reply": "2024-12-09T15:31:04.186797Z"
    },
    "papermill": {
     "duration": 0.013349,
     "end_time": "2024-12-09T15:31:04.189335",
     "exception": false,
     "start_time": "2024-12-09T15:31:04.175986",
     "status": "completed"
    },
    "tags": []
   },
   "outputs": [],
   "source": [
    "class UCF11Dataset(Dataset):\n",
    "    def __init__(self, data, target, transform=None):\n",
    "        self.data = data # numpy array or PIL Image\n",
    "        self.target = target\n",
    "        self.transform = transform\n",
    "\n",
    "    def __len__(self):\n",
    "        return len(self.data)\n",
    "\n",
    "    def __getitem__(self, index):\n",
    "        data = self.data[index]\n",
    "        target = self.target[index]\n",
    "\n",
    "        if self.transform:\n",
    "            data = self.transform(data)\n",
    "    \n",
    "        return data, target"
   ]
  },
  {
   "cell_type": "code",
   "execution_count": 11,
   "id": "674737a5",
   "metadata": {
    "execution": {
     "iopub.execute_input": "2024-12-09T15:31:04.201229Z",
     "iopub.status.busy": "2024-12-09T15:31:04.200968Z",
     "iopub.status.idle": "2024-12-09T15:31:04.205665Z",
     "shell.execute_reply": "2024-12-09T15:31:04.204814Z"
    },
    "papermill": {
     "duration": 0.012781,
     "end_time": "2024-12-09T15:31:04.207451",
     "exception": false,
     "start_time": "2024-12-09T15:31:04.194670",
     "status": "completed"
    },
    "tags": []
   },
   "outputs": [],
   "source": [
    "class VideoToTensor:\n",
    "    def __init__(self):\n",
    "        self.to_tensor = ToTensor()\n",
    "    def __call__(self, clip):\n",
    "        output = []\n",
    "        for i in range(len(clip)):\n",
    "            frame = clip[i]\n",
    "            output.append(self.to_tensor(frame).numpy())\n",
    "        return torch.tensor(np.array(output))"
   ]
  },
  {
   "cell_type": "code",
   "execution_count": null,
   "id": "a9383cfd",
   "metadata": {
    "execution": {
     "iopub.execute_input": "2024-12-09T15:31:04.219562Z",
     "iopub.status.busy": "2024-12-09T15:31:04.218973Z",
     "iopub.status.idle": "2024-12-09T15:39:23.664521Z",
     "shell.execute_reply": "2024-12-09T15:39:23.663617Z"
    },
    "papermill": {
     "duration": 499.459051,
     "end_time": "2024-12-09T15:39:23.671890",
     "exception": false,
     "start_time": "2024-12-09T15:31:04.212839",
     "status": "completed"
    },
    "scrolled": true,
    "tags": []
   },
   "outputs": [
    {
     "name": "stdout",
     "output_type": "stream",
     "text": [
      "Video /basketball/v_shooting_16/v_shooting_16_05.mpg có ít hơn 16 frames. Sẽ lấy tất cả 10 frames.\n",
      "Video /basketball/v_shooting_16/v_shooting_16_05.mpg không đủ số frame sau khi xử lý, sẽ bỏ qua.\n",
      "Video /basketball/v_shooting_25/v_shooting_25_06.mpg có ít hơn 16 frames. Sẽ lấy tất cả 12 frames.\n",
      "Video /basketball/v_shooting_25/v_shooting_25_06.mpg không đủ số frame sau khi xử lý, sẽ bỏ qua.\n",
      "Video /basketball/v_shooting_24/v_shooting_24_01.mpg có ít hơn 16 frames. Sẽ lấy tất cả 1 frames.\n",
      "Video /basketball/v_shooting_24/v_shooting_24_01.mpg không đủ số frame sau khi xử lý, sẽ bỏ qua.\n",
      "Shape của videos: (1597, 16, 240, 320, 3)\n",
      "Shape của labels: (1597,)\n"
     ]
    }
   ],
   "source": [
    "data, targets = prepare_data(\n",
    "    video_path=ucf11,\n",
    "    _resize=INPUT_SIZE[1:],\n",
    "    num_classes=NUM_CLASSES,\n",
    "    num_frames=CLIP_DURATION\n",
    ")"
   ]
  },
  {
   "cell_type": "code",
   "execution_count": 13,
   "id": "ab8b781d",
   "metadata": {
    "execution": {
     "iopub.execute_input": "2024-12-09T15:39:23.684098Z",
     "iopub.status.busy": "2024-12-09T15:39:23.683810Z",
     "iopub.status.idle": "2024-12-09T15:39:23.689373Z",
     "shell.execute_reply": "2024-12-09T15:39:23.688441Z"
    },
    "papermill": {
     "duration": 0.013844,
     "end_time": "2024-12-09T15:39:23.691174",
     "exception": false,
     "start_time": "2024-12-09T15:39:23.677330",
     "status": "completed"
    },
    "tags": []
   },
   "outputs": [
    {
     "name": "stdout",
     "output_type": "stream",
     "text": [
      "Class 0: 145 samples\n",
      "Class 1: 119 samples\n",
      "Class 2: 137 samples\n",
      "Class 3: 123 samples\n",
      "Class 4: 142 samples\n",
      "Class 5: 156 samples\n",
      "Class 6: 167 samples\n",
      "Class 7: 116 samples\n",
      "Class 8: 138 samples\n",
      "Class 9: 198 samples\n",
      "Class 10: 156 samples\n"
     ]
    }
   ],
   "source": [
    "classes, counts = np.unique(targets, return_counts=True)\n",
    "\n",
    "for class_id, count in zip(classes, counts):\n",
    "    print(f\"Class {class_id}: {count} samples\")"
   ]
  },
  {
   "cell_type": "code",
   "execution_count": 14,
   "id": "ece72d07",
   "metadata": {
    "execution": {
     "iopub.execute_input": "2024-12-09T15:39:23.703853Z",
     "iopub.status.busy": "2024-12-09T15:39:23.703621Z",
     "iopub.status.idle": "2024-12-09T15:39:25.386284Z",
     "shell.execute_reply": "2024-12-09T15:39:25.385574Z"
    },
    "papermill": {
     "duration": 1.690857,
     "end_time": "2024-12-09T15:39:25.388336",
     "exception": false,
     "start_time": "2024-12-09T15:39:23.697479",
     "status": "completed"
    },
    "tags": []
   },
   "outputs": [],
   "source": [
    "X_train, X_test, y_train, y_test = train_test_split(\n",
    "    data, targets, \n",
    "    shuffle=True, stratify=targets, \n",
    "    test_size = 0.2, random_state = 42\n",
    ")"
   ]
  },
  {
   "cell_type": "markdown",
   "id": "aefe5d78",
   "metadata": {
    "papermill": {
     "duration": 0.005236,
     "end_time": "2024-12-09T15:39:25.399356",
     "exception": false,
     "start_time": "2024-12-09T15:39:25.394120",
     "status": "completed"
    },
    "tags": []
   },
   "source": [
    "# Model, optimizer and loss function"
   ]
  },
  {
   "cell_type": "code",
   "execution_count": 15,
   "id": "ab429e52",
   "metadata": {
    "execution": {
     "iopub.execute_input": "2024-12-09T15:39:25.411145Z",
     "iopub.status.busy": "2024-12-09T15:39:25.410893Z",
     "iopub.status.idle": "2024-12-09T15:39:27.561221Z",
     "shell.execute_reply": "2024-12-09T15:39:27.560273Z"
    },
    "papermill": {
     "duration": 2.159728,
     "end_time": "2024-12-09T15:39:27.564416",
     "exception": false,
     "start_time": "2024-12-09T15:39:25.404688",
     "status": "completed"
    },
    "scrolled": true,
    "tags": []
   },
   "outputs": [
    {
     "name": "stdout",
     "output_type": "stream",
     "text": [
      "\n",
      "    Initializing TSN with base model: resnet50.\n",
      "    TSN Configurations:\n",
      "        input_modality:     RGB\n",
      "        num_segments:       16\n",
      "        new_length:         1\n",
      "        consensus_module:   avg\n",
      "        dropout_ratio:      0.8\n",
      "        img_feature_dim:    256\n",
      "            \n",
      "=> base model: resnet50\n"
     ]
    },
    {
     "name": "stderr",
     "output_type": "stream",
     "text": [
      "/opt/conda/lib/python3.10/site-packages/torchvision/models/_utils.py:135: UserWarning: Using 'weights' as positional parameter(s) is deprecated since 0.13 and may be removed in the future. Please use keyword parameter(s) instead.\n",
      "  warnings.warn(\n",
      "/opt/conda/lib/python3.10/site-packages/torchvision/models/_utils.py:223: UserWarning: Arguments other than a weight enum or `None` for 'weights' are deprecated since 0.13 and may be removed in the future. The current behavior is equivalent to passing `weights=ResNet50_Weights.IMAGENET1K_V1`. You can also use `weights=ResNet50_Weights.DEFAULT` to get the most up-to-date weights.\n",
      "  warnings.warn(msg)\n",
      "Downloading: \"https://download.pytorch.org/models/resnet50-0676ba61.pth\" to /root/.cache/torch/hub/checkpoints/resnet50-0676ba61.pth\n",
      "100%|██████████| 97.8M/97.8M [00:00<00:00, 206MB/s]\n"
     ]
    },
    {
     "name": "stdout",
     "output_type": "stream",
     "text": [
      "Adding temporal shift...\n",
      "=> n_segment per stage: [16, 16, 16, 16]\n",
      "=> Processing stage with 3 blocks residual\n",
      "=> Using fold div: 8\n",
      "=> Using fold div: 8\n",
      "=> Using fold div: 8\n",
      "=> Processing stage with 4 blocks residual\n",
      "=> Using fold div: 8\n",
      "=> Using fold div: 8\n",
      "=> Using fold div: 8\n",
      "=> Using fold div: 8\n",
      "=> Processing stage with 6 blocks residual\n",
      "=> Using fold div: 8\n",
      "=> Using fold div: 8\n",
      "=> Using fold div: 8\n",
      "=> Using fold div: 8\n",
      "=> Using fold div: 8\n",
      "=> Using fold div: 8\n",
      "=> Processing stage with 3 blocks residual\n",
      "=> Using fold div: 8\n",
      "=> Using fold div: 8\n",
      "=> Using fold div: 8\n",
      "----------------------------------------------------------------\n",
      "        Layer (type)               Output Shape         Param #\n",
      "================================================================\n",
      "            Conv2d-1         [-1, 64, 112, 112]           9,408\n",
      "       BatchNorm2d-2         [-1, 64, 112, 112]             128\n",
      "              ReLU-3         [-1, 64, 112, 112]               0\n",
      "         MaxPool2d-4           [-1, 64, 56, 56]               0\n",
      "            Conv2d-5           [-1, 64, 56, 56]           4,096\n",
      "     TemporalShift-6           [-1, 64, 56, 56]               0\n",
      "       BatchNorm2d-7           [-1, 64, 56, 56]             128\n",
      "              ReLU-8           [-1, 64, 56, 56]               0\n",
      "            Conv2d-9           [-1, 64, 56, 56]          36,864\n",
      "      BatchNorm2d-10           [-1, 64, 56, 56]             128\n",
      "             ReLU-11           [-1, 64, 56, 56]               0\n",
      "           Conv2d-12          [-1, 256, 56, 56]          16,384\n",
      "      BatchNorm2d-13          [-1, 256, 56, 56]             512\n",
      "           Conv2d-14          [-1, 256, 56, 56]          16,384\n",
      "      BatchNorm2d-15          [-1, 256, 56, 56]             512\n",
      "             ReLU-16          [-1, 256, 56, 56]               0\n",
      "       Bottleneck-17          [-1, 256, 56, 56]               0\n",
      "           Conv2d-18           [-1, 64, 56, 56]          16,384\n",
      "    TemporalShift-19           [-1, 64, 56, 56]               0\n",
      "      BatchNorm2d-20           [-1, 64, 56, 56]             128\n",
      "             ReLU-21           [-1, 64, 56, 56]               0\n",
      "           Conv2d-22           [-1, 64, 56, 56]          36,864\n",
      "      BatchNorm2d-23           [-1, 64, 56, 56]             128\n",
      "             ReLU-24           [-1, 64, 56, 56]               0\n",
      "           Conv2d-25          [-1, 256, 56, 56]          16,384\n",
      "      BatchNorm2d-26          [-1, 256, 56, 56]             512\n",
      "             ReLU-27          [-1, 256, 56, 56]               0\n",
      "       Bottleneck-28          [-1, 256, 56, 56]               0\n",
      "           Conv2d-29           [-1, 64, 56, 56]          16,384\n",
      "    TemporalShift-30           [-1, 64, 56, 56]               0\n",
      "      BatchNorm2d-31           [-1, 64, 56, 56]             128\n",
      "             ReLU-32           [-1, 64, 56, 56]               0\n",
      "           Conv2d-33           [-1, 64, 56, 56]          36,864\n",
      "      BatchNorm2d-34           [-1, 64, 56, 56]             128\n",
      "             ReLU-35           [-1, 64, 56, 56]               0\n",
      "           Conv2d-36          [-1, 256, 56, 56]          16,384\n",
      "      BatchNorm2d-37          [-1, 256, 56, 56]             512\n",
      "             ReLU-38          [-1, 256, 56, 56]               0\n",
      "       Bottleneck-39          [-1, 256, 56, 56]               0\n",
      "           Conv2d-40          [-1, 128, 56, 56]          32,768\n",
      "    TemporalShift-41          [-1, 128, 56, 56]               0\n",
      "      BatchNorm2d-42          [-1, 128, 56, 56]             256\n",
      "             ReLU-43          [-1, 128, 56, 56]               0\n",
      "           Conv2d-44          [-1, 128, 28, 28]         147,456\n",
      "      BatchNorm2d-45          [-1, 128, 28, 28]             256\n",
      "             ReLU-46          [-1, 128, 28, 28]               0\n",
      "           Conv2d-47          [-1, 512, 28, 28]          65,536\n",
      "      BatchNorm2d-48          [-1, 512, 28, 28]           1,024\n",
      "           Conv2d-49          [-1, 512, 28, 28]         131,072\n",
      "      BatchNorm2d-50          [-1, 512, 28, 28]           1,024\n",
      "             ReLU-51          [-1, 512, 28, 28]               0\n",
      "       Bottleneck-52          [-1, 512, 28, 28]               0\n",
      "           Conv2d-53          [-1, 128, 28, 28]          65,536\n",
      "    TemporalShift-54          [-1, 128, 28, 28]               0\n",
      "      BatchNorm2d-55          [-1, 128, 28, 28]             256\n",
      "             ReLU-56          [-1, 128, 28, 28]               0\n",
      "           Conv2d-57          [-1, 128, 28, 28]         147,456\n",
      "      BatchNorm2d-58          [-1, 128, 28, 28]             256\n",
      "             ReLU-59          [-1, 128, 28, 28]               0\n",
      "           Conv2d-60          [-1, 512, 28, 28]          65,536\n",
      "      BatchNorm2d-61          [-1, 512, 28, 28]           1,024\n",
      "             ReLU-62          [-1, 512, 28, 28]               0\n",
      "       Bottleneck-63          [-1, 512, 28, 28]               0\n",
      "           Conv2d-64          [-1, 128, 28, 28]          65,536\n",
      "    TemporalShift-65          [-1, 128, 28, 28]               0\n",
      "      BatchNorm2d-66          [-1, 128, 28, 28]             256\n",
      "             ReLU-67          [-1, 128, 28, 28]               0\n",
      "           Conv2d-68          [-1, 128, 28, 28]         147,456\n",
      "      BatchNorm2d-69          [-1, 128, 28, 28]             256\n",
      "             ReLU-70          [-1, 128, 28, 28]               0\n",
      "           Conv2d-71          [-1, 512, 28, 28]          65,536\n",
      "      BatchNorm2d-72          [-1, 512, 28, 28]           1,024\n",
      "             ReLU-73          [-1, 512, 28, 28]               0\n",
      "       Bottleneck-74          [-1, 512, 28, 28]               0\n",
      "           Conv2d-75          [-1, 128, 28, 28]          65,536\n",
      "    TemporalShift-76          [-1, 128, 28, 28]               0\n",
      "      BatchNorm2d-77          [-1, 128, 28, 28]             256\n",
      "             ReLU-78          [-1, 128, 28, 28]               0\n",
      "           Conv2d-79          [-1, 128, 28, 28]         147,456\n",
      "      BatchNorm2d-80          [-1, 128, 28, 28]             256\n",
      "             ReLU-81          [-1, 128, 28, 28]               0\n",
      "           Conv2d-82          [-1, 512, 28, 28]          65,536\n",
      "      BatchNorm2d-83          [-1, 512, 28, 28]           1,024\n",
      "             ReLU-84          [-1, 512, 28, 28]               0\n",
      "       Bottleneck-85          [-1, 512, 28, 28]               0\n",
      "           Conv2d-86          [-1, 256, 28, 28]         131,072\n",
      "    TemporalShift-87          [-1, 256, 28, 28]               0\n",
      "      BatchNorm2d-88          [-1, 256, 28, 28]             512\n",
      "             ReLU-89          [-1, 256, 28, 28]               0\n",
      "           Conv2d-90          [-1, 256, 14, 14]         589,824\n",
      "      BatchNorm2d-91          [-1, 256, 14, 14]             512\n",
      "             ReLU-92          [-1, 256, 14, 14]               0\n",
      "           Conv2d-93         [-1, 1024, 14, 14]         262,144\n",
      "      BatchNorm2d-94         [-1, 1024, 14, 14]           2,048\n",
      "           Conv2d-95         [-1, 1024, 14, 14]         524,288\n",
      "      BatchNorm2d-96         [-1, 1024, 14, 14]           2,048\n",
      "             ReLU-97         [-1, 1024, 14, 14]               0\n",
      "       Bottleneck-98         [-1, 1024, 14, 14]               0\n",
      "           Conv2d-99          [-1, 256, 14, 14]         262,144\n",
      "   TemporalShift-100          [-1, 256, 14, 14]               0\n",
      "     BatchNorm2d-101          [-1, 256, 14, 14]             512\n",
      "            ReLU-102          [-1, 256, 14, 14]               0\n",
      "          Conv2d-103          [-1, 256, 14, 14]         589,824\n",
      "     BatchNorm2d-104          [-1, 256, 14, 14]             512\n",
      "            ReLU-105          [-1, 256, 14, 14]               0\n",
      "          Conv2d-106         [-1, 1024, 14, 14]         262,144\n",
      "     BatchNorm2d-107         [-1, 1024, 14, 14]           2,048\n",
      "            ReLU-108         [-1, 1024, 14, 14]               0\n",
      "      Bottleneck-109         [-1, 1024, 14, 14]               0\n",
      "          Conv2d-110          [-1, 256, 14, 14]         262,144\n",
      "   TemporalShift-111          [-1, 256, 14, 14]               0\n",
      "     BatchNorm2d-112          [-1, 256, 14, 14]             512\n",
      "            ReLU-113          [-1, 256, 14, 14]               0\n",
      "          Conv2d-114          [-1, 256, 14, 14]         589,824\n",
      "     BatchNorm2d-115          [-1, 256, 14, 14]             512\n",
      "            ReLU-116          [-1, 256, 14, 14]               0\n",
      "          Conv2d-117         [-1, 1024, 14, 14]         262,144\n",
      "     BatchNorm2d-118         [-1, 1024, 14, 14]           2,048\n",
      "            ReLU-119         [-1, 1024, 14, 14]               0\n",
      "      Bottleneck-120         [-1, 1024, 14, 14]               0\n",
      "          Conv2d-121          [-1, 256, 14, 14]         262,144\n",
      "   TemporalShift-122          [-1, 256, 14, 14]               0\n",
      "     BatchNorm2d-123          [-1, 256, 14, 14]             512\n",
      "            ReLU-124          [-1, 256, 14, 14]               0\n",
      "          Conv2d-125          [-1, 256, 14, 14]         589,824\n",
      "     BatchNorm2d-126          [-1, 256, 14, 14]             512\n",
      "            ReLU-127          [-1, 256, 14, 14]               0\n",
      "          Conv2d-128         [-1, 1024, 14, 14]         262,144\n",
      "     BatchNorm2d-129         [-1, 1024, 14, 14]           2,048\n",
      "            ReLU-130         [-1, 1024, 14, 14]               0\n",
      "      Bottleneck-131         [-1, 1024, 14, 14]               0\n",
      "          Conv2d-132          [-1, 256, 14, 14]         262,144\n",
      "   TemporalShift-133          [-1, 256, 14, 14]               0\n",
      "     BatchNorm2d-134          [-1, 256, 14, 14]             512\n",
      "            ReLU-135          [-1, 256, 14, 14]               0\n",
      "          Conv2d-136          [-1, 256, 14, 14]         589,824\n",
      "     BatchNorm2d-137          [-1, 256, 14, 14]             512\n",
      "            ReLU-138          [-1, 256, 14, 14]               0\n",
      "          Conv2d-139         [-1, 1024, 14, 14]         262,144\n",
      "     BatchNorm2d-140         [-1, 1024, 14, 14]           2,048\n",
      "            ReLU-141         [-1, 1024, 14, 14]               0\n",
      "      Bottleneck-142         [-1, 1024, 14, 14]               0\n",
      "          Conv2d-143          [-1, 256, 14, 14]         262,144\n",
      "   TemporalShift-144          [-1, 256, 14, 14]               0\n",
      "     BatchNorm2d-145          [-1, 256, 14, 14]             512\n",
      "            ReLU-146          [-1, 256, 14, 14]               0\n",
      "          Conv2d-147          [-1, 256, 14, 14]         589,824\n",
      "     BatchNorm2d-148          [-1, 256, 14, 14]             512\n",
      "            ReLU-149          [-1, 256, 14, 14]               0\n",
      "          Conv2d-150         [-1, 1024, 14, 14]         262,144\n",
      "     BatchNorm2d-151         [-1, 1024, 14, 14]           2,048\n",
      "            ReLU-152         [-1, 1024, 14, 14]               0\n",
      "      Bottleneck-153         [-1, 1024, 14, 14]               0\n",
      "          Conv2d-154          [-1, 512, 14, 14]         524,288\n",
      "   TemporalShift-155          [-1, 512, 14, 14]               0\n",
      "     BatchNorm2d-156          [-1, 512, 14, 14]           1,024\n",
      "            ReLU-157          [-1, 512, 14, 14]               0\n",
      "          Conv2d-158            [-1, 512, 7, 7]       2,359,296\n",
      "     BatchNorm2d-159            [-1, 512, 7, 7]           1,024\n",
      "            ReLU-160            [-1, 512, 7, 7]               0\n",
      "          Conv2d-161           [-1, 2048, 7, 7]       1,048,576\n",
      "     BatchNorm2d-162           [-1, 2048, 7, 7]           4,096\n",
      "          Conv2d-163           [-1, 2048, 7, 7]       2,097,152\n",
      "     BatchNorm2d-164           [-1, 2048, 7, 7]           4,096\n",
      "            ReLU-165           [-1, 2048, 7, 7]               0\n",
      "      Bottleneck-166           [-1, 2048, 7, 7]               0\n",
      "          Conv2d-167            [-1, 512, 7, 7]       1,048,576\n",
      "   TemporalShift-168            [-1, 512, 7, 7]               0\n",
      "     BatchNorm2d-169            [-1, 512, 7, 7]           1,024\n",
      "            ReLU-170            [-1, 512, 7, 7]               0\n",
      "          Conv2d-171            [-1, 512, 7, 7]       2,359,296\n",
      "     BatchNorm2d-172            [-1, 512, 7, 7]           1,024\n",
      "            ReLU-173            [-1, 512, 7, 7]               0\n",
      "          Conv2d-174           [-1, 2048, 7, 7]       1,048,576\n",
      "     BatchNorm2d-175           [-1, 2048, 7, 7]           4,096\n",
      "            ReLU-176           [-1, 2048, 7, 7]               0\n",
      "      Bottleneck-177           [-1, 2048, 7, 7]               0\n",
      "          Conv2d-178            [-1, 512, 7, 7]       1,048,576\n",
      "   TemporalShift-179            [-1, 512, 7, 7]               0\n",
      "     BatchNorm2d-180            [-1, 512, 7, 7]           1,024\n",
      "            ReLU-181            [-1, 512, 7, 7]               0\n",
      "          Conv2d-182            [-1, 512, 7, 7]       2,359,296\n",
      "     BatchNorm2d-183            [-1, 512, 7, 7]           1,024\n",
      "            ReLU-184            [-1, 512, 7, 7]               0\n",
      "          Conv2d-185           [-1, 2048, 7, 7]       1,048,576\n",
      "     BatchNorm2d-186           [-1, 2048, 7, 7]           4,096\n",
      "            ReLU-187           [-1, 2048, 7, 7]               0\n",
      "      Bottleneck-188           [-1, 2048, 7, 7]               0\n",
      "AdaptiveAvgPool2d-189           [-1, 2048, 1, 1]               0\n",
      "         Dropout-190                 [-1, 2048]               0\n",
      "          ResNet-191                 [-1, 2048]               0\n",
      "          Linear-192                   [-1, 11]          22,539\n",
      "         Softmax-193                   [-1, 11]               0\n",
      " ConsensusModule-194                [-1, 1, 11]               0\n",
      "================================================================\n",
      "Total params: 23,530,571\n",
      "Trainable params: 23,530,571\n",
      "Non-trainable params: 0\n",
      "----------------------------------------------------------------\n",
      "Input size (MB): 9.19\n",
      "Forward/backward pass size (MB): 301.13\n",
      "Params size (MB): 89.76\n",
      "Estimated Total Size (MB): 400.08\n",
      "----------------------------------------------------------------\n"
     ]
    },
    {
     "name": "stderr",
     "output_type": "stream",
     "text": [
      "/opt/conda/lib/python3.10/site-packages/torch/nn/modules/module.py:1553: UserWarning: Implicit dimension choice for softmax has been deprecated. Change the call to include dim=X as an argument.\n",
      "  return self._call_impl(*args, **kwargs)\n"
     ]
    }
   ],
   "source": [
    "model = models.TSN(NUM_CLASSES, CLIP_DURATION, \"RGB\",\n",
    "                   base_model='resnet50', before_softmax=False,\n",
    "                   is_shift=True, shift_place='blockres').to(DEVICE)\n",
    "# model.load_state_dict(\n",
    "#     torch.load(\n",
    "#         \"/kaggle/input/ucf11_0.15862/pytorch/default/1/TSM_ResNet50.pth\",\n",
    "#         weights_only=False\n",
    "#     )\n",
    "# )\n",
    "summary(model, (CLIP_DURATION, 3, INPUT_SIZE[1], INPUT_SIZE[2]))"
   ]
  },
  {
   "cell_type": "code",
   "execution_count": null,
   "id": "f73a26f5",
   "metadata": {
    "execution": {
     "iopub.execute_input": "2024-12-09T15:39:27.578786Z",
     "iopub.status.busy": "2024-12-09T15:39:27.578422Z",
     "iopub.status.idle": "2024-12-09T15:39:27.588018Z",
     "shell.execute_reply": "2024-12-09T15:39:27.587362Z"
    },
    "papermill": {
     "duration": 0.018473,
     "end_time": "2024-12-09T15:39:27.589662",
     "exception": false,
     "start_time": "2024-12-09T15:39:27.571189",
     "status": "completed"
    },
    "tags": []
   },
   "outputs": [],
   "source": [
    "crop_size = model.crop_size\n",
    "scale_size = model.scale_size\n",
    "input_mean = model.input_mean\n",
    "input_std = model.input_std\n",
    "policies = model.get_optim_policies()\n",
    "\n",
    "model = DataParallel(model, device_ids=[0,1]).to(DEVICE)\n",
    "\n",
    "optimizer = torch.optim.SGD(\n",
    "    policies,\n",
    "    lr=LEARNING_RATE\n",
    ")\n",
    "# optimizer = torch.optim.Adam(\n",
    "#     policies,\n",
    "#     lr=LEARNING_RATE\n",
    "# )\n",
    "scheduler = optim.lr_scheduler.ReduceLROnPlateau(\n",
    "    optimizer,\n",
    "    mode='max',\n",
    "    factor=0.5,\n",
    "    patience=2\n",
    ")\n",
    "loss_fn = nn.CrossEntropyLoss()\n",
    "\n",
    "# optimizer.load_state_dict(\n",
    "#     torch.load(\"SGD_optim.pth\")\n",
    "# )"
   ]
  },
  {
   "cell_type": "code",
   "execution_count": 17,
   "id": "97b240f6",
   "metadata": {
    "execution": {
     "iopub.execute_input": "2024-12-09T15:39:27.603664Z",
     "iopub.status.busy": "2024-12-09T15:39:27.603008Z",
     "iopub.status.idle": "2024-12-09T15:39:27.607311Z",
     "shell.execute_reply": "2024-12-09T15:39:27.606633Z"
    },
    "papermill": {
     "duration": 0.013126,
     "end_time": "2024-12-09T15:39:27.608979",
     "exception": false,
     "start_time": "2024-12-09T15:39:27.595853",
     "status": "completed"
    },
    "tags": []
   },
   "outputs": [],
   "source": [
    "train_transform = transforms.Compose([\n",
    "    VideoToTensor(),\n",
    "    # transforms.Normalize(input_mean, input_std),\n",
    "    transforms.RandomCrop(INPUT_SIZE[1]),\n",
    "    transforms.RandomHorizontalFlip(p=0.5),\n",
    "    transforms.RandomVerticalFlip(p=0.5)\n",
    "])\n",
    "test_transform = transforms.Compose([\n",
    "    VideoToTensor(),\n",
    "    transforms.CenterCrop(INPUT_SIZE[1])\n",
    "    # transforms.Normalize(input_mean, input_std)\n",
    "])"
   ]
  },
  {
   "cell_type": "code",
   "execution_count": null,
   "id": "b9339eee",
   "metadata": {
    "execution": {
     "iopub.execute_input": "2024-12-09T15:39:27.622792Z",
     "iopub.status.busy": "2024-12-09T15:39:27.622529Z",
     "iopub.status.idle": "2024-12-09T15:39:27.626946Z",
     "shell.execute_reply": "2024-12-09T15:39:27.626050Z"
    },
    "papermill": {
     "duration": 0.013343,
     "end_time": "2024-12-09T15:39:27.628851",
     "exception": false,
     "start_time": "2024-12-09T15:39:27.615508",
     "status": "completed"
    },
    "tags": []
   },
   "outputs": [],
   "source": [
    "train_dataset = UCF11Dataset(X_train, y_train, transform=train_transform)\n",
    "test_dataset = UCF11Dataset(X_test, y_test, transform=test_transform)\n",
    "\n",
    "train_loader = DataLoader(train_dataset, batch_size=BATCH_SIZE, shuffle=True)\n",
    "test_loader = DataLoader(test_dataset, batch_size=BATCH_SIZE, shuffle=False)"
   ]
  },
  {
   "cell_type": "markdown",
   "id": "05ea5f8c",
   "metadata": {
    "papermill": {
     "duration": 0.00615,
     "end_time": "2024-12-09T15:39:27.641040",
     "exception": false,
     "start_time": "2024-12-09T15:39:27.634890",
     "status": "completed"
    },
    "tags": []
   },
   "source": [
    "# WandB initialization"
   ]
  },
  {
   "cell_type": "code",
   "execution_count": null,
   "id": "1e45b66e",
   "metadata": {
    "execution": {
     "iopub.execute_input": "2024-12-09T15:39:27.655012Z",
     "iopub.status.busy": "2024-12-09T15:39:27.654359Z",
     "iopub.status.idle": "2024-12-09T15:39:29.106916Z",
     "shell.execute_reply": "2024-12-09T15:39:29.106164Z"
    },
    "papermill": {
     "duration": 1.461934,
     "end_time": "2024-12-09T15:39:29.109055",
     "exception": false,
     "start_time": "2024-12-09T15:39:27.647121",
     "status": "completed"
    },
    "tags": []
   },
   "outputs": [
    {
     "name": "stderr",
     "output_type": "stream",
     "text": [
      "\u001b[34m\u001b[1mwandb\u001b[0m: Using wandb-core as the SDK backend.  Please refer to https://wandb.me/wandb-core for more information.\n",
      "\u001b[34m\u001b[1mwandb\u001b[0m: W&B API key is configured. Use \u001b[1m`wandb login --relogin`\u001b[0m to force relogin\n",
      "\u001b[34m\u001b[1mwandb\u001b[0m: \u001b[33mWARNING\u001b[0m If you're specifying your api key in code, ensure this code is not shared publicly.\n",
      "\u001b[34m\u001b[1mwandb\u001b[0m: \u001b[33mWARNING\u001b[0m Consider setting the WANDB_API_KEY environment variable, or running `wandb login` from the command line.\n",
      "\u001b[34m\u001b[1mwandb\u001b[0m: Appending key for api.wandb.ai to your netrc file: /root/.netrc\n",
      "\u001b[34m\u001b[1mwandb\u001b[0m: Currently logged in as: \u001b[33mbachthetrollface\u001b[0m (\u001b[33mbachthetrollface-hanoi-university-of-science-and-technology\u001b[0m). Use \u001b[1m`wandb login --relogin`\u001b[0m to force relogin\n",
      "\u001b[34m\u001b[1mwandb\u001b[0m: Tracking run with wandb version 0.18.7\n",
      "\u001b[34m\u001b[1mwandb\u001b[0m: Run data is saved locally in \u001b[35m\u001b[1m/kaggle/working/wandb/run-20241209_153928-tssyudqi\u001b[0m\n",
      "\u001b[34m\u001b[1mwandb\u001b[0m: Run \u001b[1m`wandb offline`\u001b[0m to turn off syncing.\n",
      "\u001b[34m\u001b[1mwandb\u001b[0m: Syncing run \u001b[33mvaliant-music-26\u001b[0m\n",
      "\u001b[34m\u001b[1mwandb\u001b[0m: ⭐️ View project at \u001b[34m\u001b[4mhttps://wandb.ai/bachthetrollface-hanoi-university-of-science-and-technology/TSN-with-TSM_DeepLearningProject\u001b[0m\n",
      "\u001b[34m\u001b[1mwandb\u001b[0m: 🚀 View run at \u001b[34m\u001b[4mhttps://wandb.ai/bachthetrollface-hanoi-university-of-science-and-technology/TSN-with-TSM_DeepLearningProject/runs/tssyudqi\u001b[0m\n"
     ]
    }
   ],
   "source": [
    "wandb.login(key='')\n",
    "wandb.init(\n",
    "    project=\"TSN-with-TSM_DeepLearningProject\",\n",
    "    resume=\"allow\",\n",
    "    config={\n",
    "        \"dataset\":\"UCF11\",\n",
    "        \"model\":\"TSN-ResNet50\",\n",
    "        \"optimizer\":\"SGD\", #SGD/Adam\n",
    "        \"learning_rate\":LEARNING_RATE,\n",
    "        \"epochs\":NUM_EPOCHS,\n",
    "        \"batch_size\":BATCH_SIZE,\n",
    "        \"frames_per_clip\":CLIP_DURATION,\n",
    "        \"data_sampling_method\":DATA_SAMPLE,\n",
    "        \"input_size\":INPUT_SIZE[1:]\n",
    "    }\n",
    ")\n",
    "wandb.watch(model)"
   ]
  },
  {
   "cell_type": "markdown",
   "id": "6dd7ba91",
   "metadata": {
    "papermill": {
     "duration": 0.007091,
     "end_time": "2024-12-09T15:39:29.123364",
     "exception": false,
     "start_time": "2024-12-09T15:39:29.116273",
     "status": "completed"
    },
    "tags": []
   },
   "source": [
    "# Training process"
   ]
  },
  {
   "cell_type": "code",
   "execution_count": null,
   "id": "25b11ea7",
   "metadata": {
    "execution": {
     "iopub.execute_input": "2024-12-09T15:39:29.138682Z",
     "iopub.status.busy": "2024-12-09T15:39:29.138316Z",
     "iopub.status.idle": "2024-12-09T20:09:20.632934Z",
     "shell.execute_reply": "2024-12-09T20:09:20.631997Z"
    },
    "papermill": {
     "duration": 16191.505071,
     "end_time": "2024-12-09T20:09:20.635370",
     "exception": false,
     "start_time": "2024-12-09T15:39:29.130299",
     "status": "completed"
    },
    "tags": []
   },
   "outputs": [
    {
     "name": "stdout",
     "output_type": "stream",
     "text": [
      "Freezing BatchNorm2D except the first one.\n"
     ]
    },
    {
     "name": "stderr",
     "output_type": "stream",
     "text": [
      "/opt/conda/lib/python3.10/site-packages/torch/nn/parallel/parallel_apply.py:79: FutureWarning: `torch.cuda.amp.autocast(args...)` is deprecated. Please use `torch.amp.autocast('cuda', args...)` instead.\n",
      "  with torch.cuda.device(device), torch.cuda.stream(stream), autocast(enabled=autocast_enabled):\n"
     ]
    },
    {
     "name": "stdout",
     "output_type": "stream",
     "text": [
      "Epoch 1: Train Loss: 0.2007 |         Train Accuracy: 0.1355 |         Test Loss: 0.2018 |         Test Accuracy: 0.1062\n",
      "New best checkpoint saved!\n",
      "Freezing BatchNorm2D except the first one.\n",
      "Epoch 2: Train Loss: 0.1995 |         Train Accuracy: 0.1339 |         Test Loss: 0.2001 |         Test Accuracy: 0.1875\n",
      "New best checkpoint saved!\n",
      "Freezing BatchNorm2D except the first one.\n",
      "Epoch 3: Train Loss: 0.1968 |         Train Accuracy: 0.1895 |         Test Loss: 0.1959 |         Test Accuracy: 0.2125\n",
      "New best checkpoint saved!\n",
      "Freezing BatchNorm2D except the first one.\n",
      "Epoch 4: Train Loss: 0.1937 |         Train Accuracy: 0.2318 |         Test Loss: 0.1946 |         Test Accuracy: 0.2250\n",
      "New best checkpoint saved!\n",
      "Freezing BatchNorm2D except the first one.\n",
      "Epoch 5: Train Loss: 0.1907 |         Train Accuracy: 0.2702 |         Test Loss: 0.1941 |         Test Accuracy: 0.2375\n",
      "New best checkpoint saved!\n",
      "Freezing BatchNorm2D except the first one.\n",
      "Epoch 6: Train Loss: 0.1880 |         Train Accuracy: 0.3125 |         Test Loss: 0.1925 |         Test Accuracy: 0.2594\n",
      "New best checkpoint saved!\n",
      "Freezing BatchNorm2D except the first one.\n",
      "Epoch 7: Train Loss: 0.1869 |         Train Accuracy: 0.3187 |         Test Loss: 0.1859 |         Test Accuracy: 0.3438\n",
      "New best checkpoint saved!\n",
      "Freezing BatchNorm2D except the first one.\n",
      "Epoch 8: Train Loss: 0.1843 |         Train Accuracy: 0.3532 |         Test Loss: 0.1854 |         Test Accuracy: 0.3500\n",
      "New best checkpoint saved!\n",
      "Freezing BatchNorm2D except the first one.\n",
      "Epoch 9: Train Loss: 0.1834 |         Train Accuracy: 0.3641 |         Test Loss: 0.1858 |         Test Accuracy: 0.3250\n",
      "Freezing BatchNorm2D except the first one.\n",
      "Epoch 10: Train Loss: 0.1818 |         Train Accuracy: 0.3751 |         Test Loss: 0.1832 |         Test Accuracy: 0.3781\n",
      "New best checkpoint saved!\n",
      "Freezing BatchNorm2D except the first one.\n",
      "Epoch 11: Train Loss: 0.1807 |         Train Accuracy: 0.3900 |         Test Loss: 0.1831 |         Test Accuracy: 0.3688\n",
      "Freezing BatchNorm2D except the first one.\n",
      "Epoch 12: Train Loss: 0.1793 |         Train Accuracy: 0.4174 |         Test Loss: 0.1834 |         Test Accuracy: 0.3656\n",
      "Freezing BatchNorm2D except the first one.\n",
      "Epoch 13: Train Loss: 0.1790 |         Train Accuracy: 0.4197 |         Test Loss: 0.1802 |         Test Accuracy: 0.4031\n",
      "New best checkpoint saved!\n",
      "Freezing BatchNorm2D except the first one.\n",
      "Epoch 14: Train Loss: 0.1770 |         Train Accuracy: 0.4471 |         Test Loss: 0.1813 |         Test Accuracy: 0.4000\n",
      "Freezing BatchNorm2D except the first one.\n",
      "Epoch 15: Train Loss: 0.1766 |         Train Accuracy: 0.4565 |         Test Loss: 0.1771 |         Test Accuracy: 0.4531\n",
      "New best checkpoint saved!\n",
      "Freezing BatchNorm2D except the first one.\n",
      "Epoch 16: Train Loss: 0.1756 |         Train Accuracy: 0.4675 |         Test Loss: 0.1824 |         Test Accuracy: 0.4219\n",
      "Freezing BatchNorm2D except the first one.\n",
      "Epoch 17: Train Loss: 0.1749 |         Train Accuracy: 0.4769 |         Test Loss: 0.1758 |         Test Accuracy: 0.4656\n",
      "New best checkpoint saved!\n",
      "Freezing BatchNorm2D except the first one.\n",
      "Epoch 18: Train Loss: 0.1722 |         Train Accuracy: 0.5043 |         Test Loss: 0.1797 |         Test Accuracy: 0.4250\n",
      "Freezing BatchNorm2D except the first one.\n",
      "Epoch 19: Train Loss: 0.1718 |         Train Accuracy: 0.5192 |         Test Loss: 0.1738 |         Test Accuracy: 0.5031\n",
      "New best checkpoint saved!\n",
      "Freezing BatchNorm2D except the first one.\n",
      "Epoch 20: Train Loss: 0.1710 |         Train Accuracy: 0.5255 |         Test Loss: 0.1737 |         Test Accuracy: 0.5188\n",
      "New best checkpoint saved!\n",
      "Freezing BatchNorm2D except the first one.\n",
      "Epoch 21: Train Loss: 0.1694 |         Train Accuracy: 0.5615 |         Test Loss: 0.1720 |         Test Accuracy: 0.5437\n",
      "New best checkpoint saved!\n",
      "Freezing BatchNorm2D except the first one.\n",
      "Epoch 22: Train Loss: 0.1686 |         Train Accuracy: 0.5568 |         Test Loss: 0.1697 |         Test Accuracy: 0.5375\n",
      "Freezing BatchNorm2D except the first one.\n",
      "Epoch 23: Train Loss: 0.1679 |         Train Accuracy: 0.5717 |         Test Loss: 0.1793 |         Test Accuracy: 0.4188\n",
      "Freezing BatchNorm2D except the first one.\n",
      "Epoch 24: Train Loss: 0.1666 |         Train Accuracy: 0.5967 |         Test Loss: 0.1731 |         Test Accuracy: 0.5188\n",
      "Freezing BatchNorm2D except the first one.\n",
      "Epoch 25: Train Loss: 0.1647 |         Train Accuracy: 0.6053 |         Test Loss: 0.1681 |         Test Accuracy: 0.5687\n",
      "New best checkpoint saved!\n",
      "Freezing BatchNorm2D except the first one.\n",
      "Epoch 26: Train Loss: 0.1636 |         Train Accuracy: 0.6218 |         Test Loss: 0.1674 |         Test Accuracy: 0.5813\n",
      "New best checkpoint saved!\n",
      "Freezing BatchNorm2D except the first one.\n",
      "Epoch 27: Train Loss: 0.1634 |         Train Accuracy: 0.6280 |         Test Loss: 0.1681 |         Test Accuracy: 0.5531\n",
      "Freezing BatchNorm2D except the first one.\n",
      "Epoch 28: Train Loss: 0.1635 |         Train Accuracy: 0.6210 |         Test Loss: 0.1670 |         Test Accuracy: 0.5844\n",
      "New best checkpoint saved!\n",
      "Freezing BatchNorm2D except the first one.\n",
      "Epoch 29: Train Loss: 0.1628 |         Train Accuracy: 0.6304 |         Test Loss: 0.1665 |         Test Accuracy: 0.5906\n",
      "New best checkpoint saved!\n",
      "Freezing BatchNorm2D except the first one.\n",
      "Epoch 30: Train Loss: 0.1622 |         Train Accuracy: 0.6366 |         Test Loss: 0.1665 |         Test Accuracy: 0.5719\n",
      "Freezing BatchNorm2D except the first one.\n",
      "Epoch 31: Train Loss: 0.1623 |         Train Accuracy: 0.6460 |         Test Loss: 0.1653 |         Test Accuracy: 0.5938\n",
      "New best checkpoint saved!\n",
      "Freezing BatchNorm2D except the first one.\n",
      "Epoch 32: Train Loss: 0.1621 |         Train Accuracy: 0.6366 |         Test Loss: 0.1657 |         Test Accuracy: 0.5938\n",
      "Freezing BatchNorm2D except the first one.\n",
      "Epoch 33: Train Loss: 0.1617 |         Train Accuracy: 0.6460 |         Test Loss: 0.1665 |         Test Accuracy: 0.5938\n",
      "Freezing BatchNorm2D except the first one.\n",
      "Epoch 34: Train Loss: 0.1609 |         Train Accuracy: 0.6625 |         Test Loss: 0.1636 |         Test Accuracy: 0.6406\n",
      "New best checkpoint saved!\n",
      "Freezing BatchNorm2D except the first one.\n",
      "Epoch 35: Train Loss: 0.1599 |         Train Accuracy: 0.6868 |         Test Loss: 0.1628 |         Test Accuracy: 0.6594\n",
      "New best checkpoint saved!\n",
      "Freezing BatchNorm2D except the first one.\n",
      "Epoch 36: Train Loss: 0.1596 |         Train Accuracy: 0.6836 |         Test Loss: 0.1624 |         Test Accuracy: 0.6281\n",
      "Freezing BatchNorm2D except the first one.\n",
      "Epoch 37: Train Loss: 0.1593 |         Train Accuracy: 0.6782 |         Test Loss: 0.1642 |         Test Accuracy: 0.6219\n",
      "Freezing BatchNorm2D except the first one.\n",
      "Epoch 38: Train Loss: 0.1589 |         Train Accuracy: 0.6985 |         Test Loss: 0.1644 |         Test Accuracy: 0.6250\n",
      "Freezing BatchNorm2D except the first one.\n",
      "Epoch 39: Train Loss: 0.1575 |         Train Accuracy: 0.7063 |         Test Loss: 0.1613 |         Test Accuracy: 0.6594\n",
      "Freezing BatchNorm2D except the first one.\n",
      "Epoch 40: Train Loss: 0.1573 |         Train Accuracy: 0.7087 |         Test Loss: 0.1604 |         Test Accuracy: 0.6625\n",
      "New best checkpoint saved!\n",
      "Freezing BatchNorm2D except the first one.\n",
      "Epoch 41: Train Loss: 0.1571 |         Train Accuracy: 0.7079 |         Test Loss: 0.1605 |         Test Accuracy: 0.6687\n",
      "New best checkpoint saved!\n",
      "Freezing BatchNorm2D except the first one.\n",
      "Epoch 42: Train Loss: 0.1569 |         Train Accuracy: 0.7087 |         Test Loss: 0.1602 |         Test Accuracy: 0.6781\n",
      "New best checkpoint saved!\n",
      "Freezing BatchNorm2D except the first one.\n",
      "Epoch 43: Train Loss: 0.1565 |         Train Accuracy: 0.7204 |         Test Loss: 0.1604 |         Test Accuracy: 0.6594\n",
      "Freezing BatchNorm2D except the first one.\n",
      "Epoch 44: Train Loss: 0.1565 |         Train Accuracy: 0.7189 |         Test Loss: 0.1612 |         Test Accuracy: 0.6687\n",
      "Freezing BatchNorm2D except the first one.\n",
      "Epoch 45: Train Loss: 0.1563 |         Train Accuracy: 0.7259 |         Test Loss: 0.1618 |         Test Accuracy: 0.6625\n",
      "Freezing BatchNorm2D except the first one.\n",
      "Epoch 46: Train Loss: 0.1556 |         Train Accuracy: 0.7322 |         Test Loss: 0.1592 |         Test Accuracy: 0.6813\n",
      "New best checkpoint saved!\n",
      "Freezing BatchNorm2D except the first one.\n",
      "Epoch 47: Train Loss: 0.1553 |         Train Accuracy: 0.7338 |         Test Loss: 0.1593 |         Test Accuracy: 0.6781\n",
      "Freezing BatchNorm2D except the first one.\n",
      "Epoch 48: Train Loss: 0.1549 |         Train Accuracy: 0.7361 |         Test Loss: 0.1589 |         Test Accuracy: 0.6969\n",
      "New best checkpoint saved!\n",
      "Freezing BatchNorm2D except the first one.\n",
      "Epoch 49: Train Loss: 0.1547 |         Train Accuracy: 0.7447 |         Test Loss: 0.1595 |         Test Accuracy: 0.6844\n",
      "Freezing BatchNorm2D except the first one.\n",
      "Epoch 50: Train Loss: 0.1551 |         Train Accuracy: 0.7369 |         Test Loss: 0.1591 |         Test Accuracy: 0.6844\n",
      "Freezing BatchNorm2D except the first one.\n",
      "Epoch 51: Train Loss: 0.1551 |         Train Accuracy: 0.7392 |         Test Loss: 0.1592 |         Test Accuracy: 0.6875\n",
      "Freezing BatchNorm2D except the first one.\n",
      "Epoch 52: Train Loss: 0.1544 |         Train Accuracy: 0.7471 |         Test Loss: 0.1588 |         Test Accuracy: 0.6844\n",
      "Freezing BatchNorm2D except the first one.\n",
      "Epoch 53: Train Loss: 0.1539 |         Train Accuracy: 0.7518 |         Test Loss: 0.1584 |         Test Accuracy: 0.7094\n",
      "New best checkpoint saved!\n",
      "Freezing BatchNorm2D except the first one.\n",
      "Epoch 54: Train Loss: 0.1547 |         Train Accuracy: 0.7392 |         Test Loss: 0.1588 |         Test Accuracy: 0.7031\n",
      "Freezing BatchNorm2D except the first one.\n",
      "Epoch 55: Train Loss: 0.1539 |         Train Accuracy: 0.7525 |         Test Loss: 0.1591 |         Test Accuracy: 0.6844\n",
      "Freezing BatchNorm2D except the first one.\n",
      "Epoch 56: Train Loss: 0.1542 |         Train Accuracy: 0.7471 |         Test Loss: 0.1586 |         Test Accuracy: 0.6969\n",
      "Freezing BatchNorm2D except the first one.\n",
      "Epoch 57: Train Loss: 0.1541 |         Train Accuracy: 0.7392 |         Test Loss: 0.1584 |         Test Accuracy: 0.7000\n",
      "Freezing BatchNorm2D except the first one.\n",
      "Epoch 58: Train Loss: 0.1541 |         Train Accuracy: 0.7510 |         Test Loss: 0.1585 |         Test Accuracy: 0.6875\n",
      "Freezing BatchNorm2D except the first one.\n",
      "Epoch 59: Train Loss: 0.1540 |         Train Accuracy: 0.7510 |         Test Loss: 0.1585 |         Test Accuracy: 0.6969\n",
      "Freezing BatchNorm2D except the first one.\n",
      "Epoch 60: Train Loss: 0.1540 |         Train Accuracy: 0.7525 |         Test Loss: 0.1584 |         Test Accuracy: 0.6969\n",
      "Freezing BatchNorm2D except the first one.\n",
      "Epoch 61: Train Loss: 0.1537 |         Train Accuracy: 0.7525 |         Test Loss: 0.1585 |         Test Accuracy: 0.6969\n",
      "Freezing BatchNorm2D except the first one.\n",
      "Epoch 62: Train Loss: 0.1538 |         Train Accuracy: 0.7541 |         Test Loss: 0.1587 |         Test Accuracy: 0.6906\n",
      "Freezing BatchNorm2D except the first one.\n",
      "Epoch 63: Train Loss: 0.1538 |         Train Accuracy: 0.7471 |         Test Loss: 0.1585 |         Test Accuracy: 0.6937\n",
      "Freezing BatchNorm2D except the first one.\n",
      "Epoch 64: Train Loss: 0.1534 |         Train Accuracy: 0.7541 |         Test Loss: 0.1584 |         Test Accuracy: 0.6969\n",
      "Freezing BatchNorm2D except the first one.\n",
      "Epoch 65: Train Loss: 0.1538 |         Train Accuracy: 0.7533 |         Test Loss: 0.1584 |         Test Accuracy: 0.7031\n",
      "Freezing BatchNorm2D except the first one.\n",
      "Epoch 66: Train Loss: 0.1535 |         Train Accuracy: 0.7533 |         Test Loss: 0.1585 |         Test Accuracy: 0.6937\n",
      "Freezing BatchNorm2D except the first one.\n",
      "Epoch 67: Train Loss: 0.1536 |         Train Accuracy: 0.7541 |         Test Loss: 0.1585 |         Test Accuracy: 0.6937\n",
      "Freezing BatchNorm2D except the first one.\n",
      "Epoch 68: Train Loss: 0.1532 |         Train Accuracy: 0.7674 |         Test Loss: 0.1584 |         Test Accuracy: 0.7000\n",
      "Freezing BatchNorm2D except the first one.\n",
      "Epoch 69: Train Loss: 0.1531 |         Train Accuracy: 0.7666 |         Test Loss: 0.1585 |         Test Accuracy: 0.6969\n",
      "Freezing BatchNorm2D except the first one.\n",
      "Epoch 70: Train Loss: 0.1537 |         Train Accuracy: 0.7533 |         Test Loss: 0.1584 |         Test Accuracy: 0.6969\n",
      "Freezing BatchNorm2D except the first one.\n",
      "Epoch 71: Train Loss: 0.1534 |         Train Accuracy: 0.7565 |         Test Loss: 0.1584 |         Test Accuracy: 0.7000\n",
      "Freezing BatchNorm2D except the first one.\n",
      "Epoch 72: Train Loss: 0.1541 |         Train Accuracy: 0.7518 |         Test Loss: 0.1584 |         Test Accuracy: 0.7000\n",
      "Freezing BatchNorm2D except the first one.\n",
      "Epoch 73: Train Loss: 0.1535 |         Train Accuracy: 0.7659 |         Test Loss: 0.1584 |         Test Accuracy: 0.6969\n",
      "Freezing BatchNorm2D except the first one.\n",
      "Epoch 74: Train Loss: 0.1536 |         Train Accuracy: 0.7596 |         Test Loss: 0.1584 |         Test Accuracy: 0.6969\n",
      "Freezing BatchNorm2D except the first one.\n",
      "Epoch 75: Train Loss: 0.1533 |         Train Accuracy: 0.7627 |         Test Loss: 0.1584 |         Test Accuracy: 0.6969\n",
      "Freezing BatchNorm2D except the first one.\n",
      "Epoch 76: Train Loss: 0.1536 |         Train Accuracy: 0.7588 |         Test Loss: 0.1585 |         Test Accuracy: 0.7000\n",
      "Freezing BatchNorm2D except the first one.\n",
      "Epoch 77: Train Loss: 0.1533 |         Train Accuracy: 0.7659 |         Test Loss: 0.1584 |         Test Accuracy: 0.7000\n",
      "Freezing BatchNorm2D except the first one.\n",
      "Epoch 78: Train Loss: 0.1535 |         Train Accuracy: 0.7596 |         Test Loss: 0.1585 |         Test Accuracy: 0.6937\n",
      "Freezing BatchNorm2D except the first one.\n",
      "Epoch 79: Train Loss: 0.1531 |         Train Accuracy: 0.7698 |         Test Loss: 0.1584 |         Test Accuracy: 0.6969\n",
      "Freezing BatchNorm2D except the first one.\n",
      "Epoch 80: Train Loss: 0.1540 |         Train Accuracy: 0.7518 |         Test Loss: 0.1584 |         Test Accuracy: 0.6969\n",
      "Freezing BatchNorm2D except the first one.\n",
      "Epoch 81: Train Loss: 0.1530 |         Train Accuracy: 0.7565 |         Test Loss: 0.1584 |         Test Accuracy: 0.6969\n",
      "Freezing BatchNorm2D except the first one.\n",
      "Epoch 82: Train Loss: 0.1535 |         Train Accuracy: 0.7619 |         Test Loss: 0.1584 |         Test Accuracy: 0.6969\n",
      "Freezing BatchNorm2D except the first one.\n",
      "Epoch 83: Train Loss: 0.1534 |         Train Accuracy: 0.7588 |         Test Loss: 0.1584 |         Test Accuracy: 0.7000\n",
      "Freezing BatchNorm2D except the first one.\n",
      "Epoch 84: Train Loss: 0.1536 |         Train Accuracy: 0.7565 |         Test Loss: 0.1584 |         Test Accuracy: 0.7000\n",
      "Freezing BatchNorm2D except the first one.\n",
      "Epoch 85: Train Loss: 0.1534 |         Train Accuracy: 0.7580 |         Test Loss: 0.1584 |         Test Accuracy: 0.6937\n",
      "Freezing BatchNorm2D except the first one.\n",
      "Epoch 86: Train Loss: 0.1533 |         Train Accuracy: 0.7604 |         Test Loss: 0.1584 |         Test Accuracy: 0.6906\n",
      "Freezing BatchNorm2D except the first one.\n",
      "Epoch 87: Train Loss: 0.1531 |         Train Accuracy: 0.7612 |         Test Loss: 0.1584 |         Test Accuracy: 0.7031\n",
      "Freezing BatchNorm2D except the first one.\n",
      "Epoch 88: Train Loss: 0.1538 |         Train Accuracy: 0.7525 |         Test Loss: 0.1584 |         Test Accuracy: 0.6969\n",
      "Freezing BatchNorm2D except the first one.\n",
      "Epoch 89: Train Loss: 0.1532 |         Train Accuracy: 0.7651 |         Test Loss: 0.1584 |         Test Accuracy: 0.6969\n",
      "Freezing BatchNorm2D except the first one.\n",
      "Epoch 90: Train Loss: 0.1536 |         Train Accuracy: 0.7525 |         Test Loss: 0.1585 |         Test Accuracy: 0.6969\n",
      "Freezing BatchNorm2D except the first one.\n",
      "Epoch 91: Train Loss: 0.1532 |         Train Accuracy: 0.7635 |         Test Loss: 0.1584 |         Test Accuracy: 0.6969\n",
      "Freezing BatchNorm2D except the first one.\n",
      "Epoch 92: Train Loss: 0.1538 |         Train Accuracy: 0.7549 |         Test Loss: 0.1584 |         Test Accuracy: 0.6969\n",
      "Freezing BatchNorm2D except the first one.\n",
      "Epoch 93: Train Loss: 0.1535 |         Train Accuracy: 0.7580 |         Test Loss: 0.1584 |         Test Accuracy: 0.6937\n",
      "Freezing BatchNorm2D except the first one.\n",
      "Epoch 94: Train Loss: 0.1535 |         Train Accuracy: 0.7619 |         Test Loss: 0.1584 |         Test Accuracy: 0.6969\n",
      "Freezing BatchNorm2D except the first one.\n",
      "Epoch 95: Train Loss: 0.1534 |         Train Accuracy: 0.7572 |         Test Loss: 0.1584 |         Test Accuracy: 0.6969\n",
      "Freezing BatchNorm2D except the first one.\n",
      "Epoch 96: Train Loss: 0.1537 |         Train Accuracy: 0.7557 |         Test Loss: 0.1584 |         Test Accuracy: 0.6969\n",
      "Freezing BatchNorm2D except the first one.\n",
      "Epoch 97: Train Loss: 0.1537 |         Train Accuracy: 0.7580 |         Test Loss: 0.1584 |         Test Accuracy: 0.6969\n",
      "Freezing BatchNorm2D except the first one.\n",
      "Epoch 98: Train Loss: 0.1536 |         Train Accuracy: 0.7588 |         Test Loss: 0.1584 |         Test Accuracy: 0.6969\n",
      "Freezing BatchNorm2D except the first one.\n",
      "Epoch 99: Train Loss: 0.1536 |         Train Accuracy: 0.7635 |         Test Loss: 0.1583 |         Test Accuracy: 0.6969\n",
      "Freezing BatchNorm2D except the first one.\n",
      "Epoch 100: Train Loss: 0.1534 |         Train Accuracy: 0.7612 |         Test Loss: 0.1584 |         Test Accuracy: 0.7063\n"
     ]
    },
    {
     "name": "stderr",
     "output_type": "stream",
     "text": [
      "\u001b[34m\u001b[1mwandb\u001b[0m:                                                                                \n",
      "\u001b[34m\u001b[1mwandb\u001b[0m: \n",
      "\u001b[34m\u001b[1mwandb\u001b[0m: Run history:\n",
      "\u001b[34m\u001b[1mwandb\u001b[0m:          Epoch ▁▁▁▂▂▂▂▂▂▃▃▃▃▃▄▄▄▄▄▄▅▅▅▅▅▆▆▆▆▆▆▇▇▇▇▇▇███\n",
      "\u001b[34m\u001b[1mwandb\u001b[0m:  Test Accuracy ▁▂▃▃▄▄▄▅▆▆▆▆▆▆▆▇▇▇▇▇████████████████████\n",
      "\u001b[34m\u001b[1mwandb\u001b[0m:      Test Loss █▇▇▇▇▆▄▅▅▄▅▃▂▂▂▂▁▁▁▂▁▁▁▁▁▁▁▁▁▁▁▁▁▁▁▁▁▁▁▁\n",
      "\u001b[34m\u001b[1mwandb\u001b[0m: Train Accuracy ▁▂▂▃▃▃▄▄▄▅▆▆▆▇▇▇▇▇██████████████████████\n",
      "\u001b[34m\u001b[1mwandb\u001b[0m:     Train Loss █▇▆▆▅▅▅▄▄▄▃▃▃▃▂▂▂▂▂▁▁▁▁▁▁▁▁▁▁▁▁▁▁▁▁▁▁▁▁▁\n",
      "\u001b[34m\u001b[1mwandb\u001b[0m: \n",
      "\u001b[34m\u001b[1mwandb\u001b[0m: Run summary:\n",
      "\u001b[34m\u001b[1mwandb\u001b[0m:          Epoch 100\n",
      "\u001b[34m\u001b[1mwandb\u001b[0m:  Test Accuracy 0.70625\n",
      "\u001b[34m\u001b[1mwandb\u001b[0m:      Test Loss 0.15842\n",
      "\u001b[34m\u001b[1mwandb\u001b[0m: Train Accuracy 0.76116\n",
      "\u001b[34m\u001b[1mwandb\u001b[0m:     Train Loss 0.15338\n",
      "\u001b[34m\u001b[1mwandb\u001b[0m: \n",
      "\u001b[34m\u001b[1mwandb\u001b[0m: 🚀 View run \u001b[33mvaliant-music-26\u001b[0m at: \u001b[34m\u001b[4mhttps://wandb.ai/bachthetrollface-hanoi-university-of-science-and-technology/TSN-with-TSM_DeepLearningProject/runs/tssyudqi\u001b[0m\n",
      "\u001b[34m\u001b[1mwandb\u001b[0m: ⭐️ View project at: \u001b[34m\u001b[4mhttps://wandb.ai/bachthetrollface-hanoi-university-of-science-and-technology/TSN-with-TSM_DeepLearningProject\u001b[0m\n",
      "\u001b[34m\u001b[1mwandb\u001b[0m: Synced 5 W&B file(s), 0 media file(s), 0 artifact file(s) and 0 other file(s)\n",
      "\u001b[34m\u001b[1mwandb\u001b[0m: Find logs at: \u001b[35m\u001b[1m./wandb/run-20241209_153928-tssyudqi/logs\u001b[0m\n"
     ]
    }
   ],
   "source": [
    "best_accuracy = -1\n",
    "\n",
    "for epoch in range(1, NUM_EPOCHS + 1):\n",
    "    model.train() \n",
    "    train_loss = 0\n",
    "    train_accuracy = 0\n",
    "    for data, target in train_loader:\n",
    "        data, target = data.to(DEVICE), target.to(DEVICE)\n",
    "        optimizer.zero_grad()\n",
    "        output = model(data)\n",
    "        loss = loss_fn(output, target)\n",
    "        loss.backward()\n",
    "        optimizer.step()\n",
    "        \n",
    "        train_loss += loss.item()\n",
    "        pred = output.argmax(dim=1, keepdim=True)\n",
    "        train_accuracy += pred.eq(target.view_as(pred)).sum().item()\n",
    "    \n",
    "    train_loss /= len(train_loader.dataset)\n",
    "    train_accuracy /= len(train_loader.dataset)\n",
    "\n",
    "    model.eval() \n",
    "    test_loss = 0\n",
    "    test_accuracy = 0\n",
    "    with torch.no_grad():\n",
    "        for data, target in test_loader:\n",
    "            data, target = data.to(DEVICE), target.to(DEVICE)\n",
    "            output = model(data)\n",
    "            loss = loss_fn(output, target)\n",
    "            \n",
    "            test_loss += loss\n",
    "            pred = output.argmax(dim=1, keepdim=True)\n",
    "            test_accuracy += pred.eq(target.view_as(pred)).sum().item()\n",
    "    \n",
    "    test_loss /= len(test_loader.dataset)\n",
    "    test_accuracy /= len(test_loader.dataset)\n",
    "    scheduler.step(test_accuracy)\n",
    "\n",
    "    # display metrics\n",
    "    print(\n",
    "        f\"Epoch {epoch}: Train Loss: {train_loss:.4f} | \\\n",
    "        Train Accuracy: {train_accuracy:.4f} | \\\n",
    "        Test Loss: {test_loss:.4f} | \\\n",
    "        Test Accuracy: {test_accuracy:.4f}\"\n",
    "    )\n",
    "\n",
    "    # save best checkpoint\n",
    "    if test_accuracy > best_accuracy:\n",
    "        best_accuracy = test_accuracy\n",
    "        torch.save(model.module.state_dict(), CHECKPOINT_PATH)\n",
    "        print(\"New best checkpoint saved!\")\n",
    "    \n",
    "    # log results to wandb\n",
    "    wandb.log({\n",
    "        \"Epoch\":epoch,\n",
    "        \"Train Loss\":train_loss,\n",
    "        \"Train Accuracy\":train_accuracy,\n",
    "        \"Test Loss\":test_loss,\n",
    "        \"Test Accuracy\":test_accuracy\n",
    "    })\n",
    "\n",
    "wandb.finish()"
   ]
  },
  {
   "cell_type": "code",
   "execution_count": 21,
   "id": "bca488db",
   "metadata": {
    "execution": {
     "iopub.execute_input": "2024-12-09T20:09:20.664772Z",
     "iopub.status.busy": "2024-12-09T20:09:20.664203Z",
     "iopub.status.idle": "2024-12-09T20:09:20.669221Z",
     "shell.execute_reply": "2024-12-09T20:09:20.668423Z"
    },
    "papermill": {
     "duration": 0.0203,
     "end_time": "2024-12-09T20:09:20.670746",
     "exception": false,
     "start_time": "2024-12-09T20:09:20.650446",
     "status": "completed"
    },
    "tags": []
   },
   "outputs": [],
   "source": [
    "# save optimizer and data loader's states\n",
    "# torch.save(\n",
    "#     train_loader,\n",
    "#     \"/kaggle/working/DataLoader.pth\"\n",
    "# )\n",
    "torch.save(\n",
    "    optimizer.state_dict(),\n",
    "    \"/kaggle/working/SGD_optim.pth\"\n",
    ")\n",
    "torch.save(\n",
    "    scheduler.state_dict(),\n",
    "    \"/kaggle/working/Scheduler.pth\"\n",
    ")"
   ]
  },
  {
   "cell_type": "code",
   "execution_count": null,
   "id": "18c6e8a7",
   "metadata": {
    "execution": {
     "iopub.execute_input": "2024-12-09T20:09:20.696941Z",
     "iopub.status.busy": "2024-12-09T20:09:20.696691Z",
     "iopub.status.idle": "2024-12-09T20:09:34.456556Z",
     "shell.execute_reply": "2024-12-09T20:09:34.455755Z"
    },
    "papermill": {
     "duration": 13.775461,
     "end_time": "2024-12-09T20:09:34.458948",
     "exception": false,
     "start_time": "2024-12-09T20:09:20.683487",
     "status": "completed"
    },
    "tags": []
   },
   "outputs": [
    {
     "name": "stdout",
     "output_type": "stream",
     "text": [
      "Accuracy: 0.709375\n",
      "Precision: 0.6542646204791235\n",
      "Recall: 0.690794207296274\n",
      "F1 Score: 0.6680656363666652\n"
     ]
    },
    {
     "data": {
      "image/png": "[encoded data removed]",
      "text/plain": [
       "<Figure size 640x480 with 2 Axes>"
      ]
     },
     "metadata": {},
     "output_type": "display_data"
    }
   ],
   "source": [
    "# Calculate metrics and draw confusion matrix\n",
    "model.module.load_state_dict(torch.load(CHECKPOINT_PATH, weights_only=True))\n",
    "\n",
    "model.eval()\n",
    "y_target = np.array([])\n",
    "y_pred = np.array([])\n",
    "with torch.no_grad():\n",
    "    for data, target in test_loader:\n",
    "        y_target = np.concatenate([y_target, target])\n",
    "        data, target = data.to(DEVICE), target.to(DEVICE)\n",
    "        output = model(data).argmax(dim=1, keepdim=False).cpu().numpy()\n",
    "        y_pred = np.concatenate([y_pred, output])\n",
    "\n",
    "accuracy = accuracy_score(y_target, y_pred)\n",
    "precision = precision_score(y_target, y_pred, zero_division=0, average='macro')\n",
    "recall = recall_score(y_target, y_pred, zero_division=0, average='macro')\n",
    "f1 = f1_score(y_target, y_pred, zero_division=0, average='macro')\n",
    "print(\"Accuracy:\", accuracy)\n",
    "print(\"Precision:\", precision)\n",
    "print(\"Recall:\", recall)\n",
    "print(\"F1 Score:\", f1)\n",
    "\n",
    "display = ConfusionMatrixDisplay(confusion_matrix(y_target, y_pred), display_labels=labels)\n",
    "display.plot()\n",
    "plt.xticks(rotation=-45, ha='left')\n",
    "plt.title(\"Confusion matrix of model outputs\")\n",
    "plt.show()"
   ]
  }
 ],
 "metadata": {
  "kaggle": {
   "accelerator": "nvidiaTeslaT4",
   "dataSources": [
    {
     "datasetId": 841381,
     "sourceId": 1436057,
     "sourceType": "datasetVersion"
    },
    {
     "datasetId": 3925435,
     "sourceId": 6826568,
     "sourceType": "datasetVersion"
    },
    {
     "datasetId": 6235612,
     "sourceId": 10143616,
     "sourceType": "datasetVersion"
    },
    {
     "isSourceIdPinned": true,
     "modelId": 187317,
     "modelInstanceId": 164995,
     "sourceId": 193459,
     "sourceType": "modelInstanceVersion"
    },
    {
     "isSourceIdPinned": true,
     "modelId": 187451,
     "modelInstanceId": 165127,
     "sourceId": 193611,
     "sourceType": "modelInstanceVersion"
    }
   ],
   "dockerImageVersionId": 30804,
   "isGpuEnabled": true,
   "isInternetEnabled": true,
   "language": "python",
   "sourceType": "notebook"
  },
  "kernelspec": {
   "display_name": "Python 3",
   "language": "python",
   "name": "python3"
  },
  "language_info": {
   "codemirror_mode": {
    "name": "ipython",
    "version": 3
   },
   "file_extension": ".py",
   "mimetype": "text/x-python",
   "name": "python",
   "nbconvert_exporter": "python",
   "pygments_lexer": "ipython3",
   "version": "3.10.14"
  },
  "papermill": {
   "default_parameters": {},
   "duration": 16733.952269,
   "end_time": "2024-12-09T20:09:36.973885",
   "environment_variables": {},
   "exception": null,
   "input_path": "__notebook__.ipynb",
   "output_path": "__notebook__.ipynb",
   "parameters": {},
   "start_time": "2024-12-09T15:30:43.021616",
   "version": "2.6.0"
  }
 },
 "nbformat": 4,
 "nbformat_minor": 5
}
